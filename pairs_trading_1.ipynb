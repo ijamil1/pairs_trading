{
 "cells": [
  {
   "cell_type": "code",
   "execution_count": 1,
   "id": "35ec9e46",
   "metadata": {},
   "outputs": [],
   "source": [
    "import yfinance as yf\n",
    "import pandas as pd\n",
    "import numpy as np\n",
    "from matplotlib import pyplot as plt"
   ]
  },
  {
   "cell_type": "code",
   "execution_count": 2,
   "id": "9f189091",
   "metadata": {},
   "outputs": [],
   "source": [
    "import statsmodels.api as sm"
   ]
  },
  {
   "cell_type": "code",
   "execution_count": 3,
   "id": "5365f117",
   "metadata": {},
   "outputs": [],
   "source": [
    "from statsmodels.tsa.stattools import adfuller"
   ]
  },
  {
   "cell_type": "code",
   "execution_count": null,
   "id": "d727ba4f",
   "metadata": {},
   "outputs": [],
   "source": [
    "!ls"
   ]
  },
  {
   "cell_type": "code",
   "execution_count": 4,
   "id": "dfe6f6c9",
   "metadata": {},
   "outputs": [],
   "source": [
    "csvs = ['nasdaq_screener_1685729611962.csv','nasdaq_screener_1685729316139.csv', 'nasdaq_screener_1685729644309.csv',\n",
    "'nasdaq_screener_1685729362138.csv', 'nasdaq_screener_1685729666989.csv', 'nasdaq_screener_1685729424243.csv', 'nasdaq_screener_1685729708105.csv',\n",
    "'nasdaq_screener_1685729454561.csv', 'nasdaq_screener_1685729730816.csv',\n",
    "'nasdaq_screener_1685729483889.csv',\n",
    "'nasdaq_screener_1685729579410.csv']\n",
    "\n",
    "sector_to_symbol_dict = {}\n",
    "\n",
    "for csv in csvs:\n",
    "    df = pd.read_csv(csv)\n",
    "    for idx, row in df.iterrows():\n",
    "        sector = row['Sector']\n",
    "        sym = row['Symbol']\n",
    "        \n",
    "        if sector in sector_to_symbol_dict.keys():\n",
    "            sector_to_symbol_dict[sector].append(sym)\n",
    "        else:\n",
    "            sector_to_symbol_dict[sector] = [sym]\n",
    "        "
   ]
  },
  {
   "cell_type": "code",
   "execution_count": 5,
   "id": "139caa6c",
   "metadata": {},
   "outputs": [],
   "source": [
    "sector_to_etf_dict = {}\n",
    "sector_to_etf_dict['Technology'] = 'XLK'\n",
    "sector_to_etf_dict['Healthcare'] = 'XLV'\n",
    "sector_to_etf_dict['Energy'] = 'XLE'\n",
    "sector_to_etf_dict['Financials'] = 'XLF'\n",
    "sector_to_etf_dict['Consumer Staples'] = 'XLP'\n",
    "sector_to_etf_dict['Utilities'] = 'XLU'\n",
    "sector_to_etf_dict['Consumer Discretionary'] = 'XLY'\n",
    "sector_to_etf_dict['Basic Materials'] = 'XLB'\n",
    "sector_to_etf_dict['Industrials'] = 'VIS'\n",
    "sector_to_etf_dict['Telecommunications'] = 'VOX'\n",
    "sector_to_etf_dict['Real Estate'] = 'XLRE'"
   ]
  },
  {
   "cell_type": "code",
   "execution_count": 6,
   "id": "59c7f30b",
   "metadata": {},
   "outputs": [],
   "source": [
    "sectors = sector_to_etf_dict.keys()\n",
    "sector_to_fd_of_data_dict = {}\n",
    "for s in sectors:\n",
    "    etf_sect = sector_to_etf_dict[s]\n",
    "    sector_to_fd_of_data_dict[s] = yf.Ticker(etf_sect).history(period='max').index[0]"
   ]
  },
  {
   "cell_type": "markdown",
   "id": "b8ddf6b4",
   "metadata": {},
   "source": [
    "sector_to_etf_dict maps sector to the ETF representing that sector; sector_to_symbol_dict maps sector to a list of the symbols in that sector; sector_to_fd_of_data_dict maps sector to the date yfinance first has that  sector's ETF's data for"
   ]
  },
  {
   "cell_type": "markdown",
   "id": "8a67057e",
   "metadata": {},
   "source": [
    "# Let's look at Energy sector"
   ]
  },
  {
   "cell_type": "code",
   "execution_count": null,
   "id": "57be5433",
   "metadata": {},
   "outputs": [],
   "source": [
    "#energy etf: XLE\n",
    "xle = yf.Ticker('XLE').history(period='max')\n",
    "xle.head()"
   ]
  },
  {
   "cell_type": "code",
   "execution_count": null,
   "id": "e031b824",
   "metadata": {},
   "outputs": [],
   "source": [
    "index = xle.index\n",
    "months = []\n",
    "years = []\n",
    "days = []\n",
    "for dt in index:\n",
    "    months.append(dt.month)\n",
    "    years.append(dt.year)\n",
    "    days.append(dt.day)\n",
    "\n",
    "xle['Month'] = pd.Series(months, index=index)\n",
    "xle['Year'] = pd.Series(years, index=index)\n",
    "xle['Day'] = pd.Series(days, index=index)\n",
    "xle.reset_index(drop=True,inplace=True)"
   ]
  },
  {
   "cell_type": "markdown",
   "id": "6edd8d23",
   "metadata": {},
   "source": [
    "Sample 10 companies from the Energy sector"
   ]
  },
  {
   "cell_type": "code",
   "execution_count": null,
   "id": "175fe4a9",
   "metadata": {},
   "outputs": [],
   "source": [
    "energy_equities = sector_to_symbol_dict['Energy']"
   ]
  },
  {
   "cell_type": "code",
   "execution_count": null,
   "id": "a1363cf0",
   "metadata": {},
   "outputs": [],
   "source": [
    "import random\n",
    "random.shuffle(energy_equities)\n",
    "energy_equities = energy_equities[:10]\n",
    "print(energy_equities) #['EGY', 'TUSK', 'CHK', 'KNTK', 'DKL', 'WWD', 'RES', 'PAA', 'VIVK', 'RNGR'] "
   ]
  },
  {
   "cell_type": "code",
   "execution_count": null,
   "id": "afeac0a7",
   "metadata": {},
   "outputs": [],
   "source": [
    "energy_equities_dfs = {}\n",
    "\n",
    "for s in energy_equities:\n",
    "    fd = yf.Ticker(s).history(period='max').index[0]\n",
    "    if pd.Timestamp(year=fd.year,month=fd.month,day=fd.day) > pd.Timestamp(year=1998, month=12, day=22):\n",
    "        energy_equities_dfs[s] = yf.Ticker(s).history(period='max')\n",
    "    else:\n",
    "        energy_equities_dfs[s] = yf.Ticker(s).history(start='1998-12-22')"
   ]
  },
  {
   "cell_type": "code",
   "execution_count": null,
   "id": "1183255f",
   "metadata": {},
   "outputs": [],
   "source": [
    "energy_equities_dfs['EGY']"
   ]
  },
  {
   "cell_type": "code",
   "execution_count": null,
   "id": "23ab71be",
   "metadata": {},
   "outputs": [],
   "source": [
    "for s in energy_equities:\n",
    "    \n",
    "    df = energy_equities_dfs[s]\n",
    "    index = df.index\n",
    "    days = []\n",
    "    months = []\n",
    "    years = []\n",
    "    \n",
    "    for dt in index:\n",
    "        days.append(dt.day)\n",
    "        months.append(dt.month)\n",
    "        years.append(dt.year)\n",
    "    \n",
    "    df['Month'] = pd.Series(months, index=index)\n",
    "    df['Year'] = pd.Series(years, index=index)\n",
    "    df['Day'] = pd.Series(days, index=index)\n",
    "    \n",
    "    df.reset_index(drop=True, inplace=True)\n",
    "    \n",
    "    #compute daily returns where the daily return of day t is simply (close(t)-close(t-1))/close(t-1) \n",
    "    daily_rets = []\n",
    "    for idx, row in df.iterrows():\n",
    "        if idx == 0:\n",
    "            daily_rets.append(-1)\n",
    "            continue\n",
    "        \n",
    "        cur_close = row['Close']\n",
    "        yd_close = df.iloc[idx-1,:]['Close']\n",
    "        daily_rets.append((cur_close-yd_close)/yd_close)\n",
    "    \n",
    "    df['Daily Returns'] = pd.Series(daily_rets)\n",
    "    "
   ]
  },
  {
   "cell_type": "code",
   "execution_count": null,
   "id": "0885dad1",
   "metadata": {},
   "outputs": [],
   "source": [
    "energy_equities_dfs['EGY']"
   ]
  },
  {
   "cell_type": "code",
   "execution_count": null,
   "id": "a5c35cd6",
   "metadata": {},
   "outputs": [],
   "source": [
    "xle"
   ]
  },
  {
   "cell_type": "markdown",
   "id": "2eb41835",
   "metadata": {},
   "source": [
    "Compute daily returns for the Energy ETF the same way you did for each of the individual equities "
   ]
  },
  {
   "cell_type": "code",
   "execution_count": null,
   "id": "b1032b7a",
   "metadata": {},
   "outputs": [],
   "source": [
    "daily_rets = []\n",
    "for idx, row in xle.iterrows():\n",
    "    if idx == 0:\n",
    "        daily_rets.append(-1)\n",
    "        continue\n",
    "    \n",
    "    cur_close = row['Close']\n",
    "    yd_close = xle.iloc[idx-1,:]['Close']\n",
    "    daily_rets.append((cur_close-yd_close)/yd_close)\n",
    "\n",
    "xle['Daily Returns'] = pd.Series(daily_rets)\n",
    "xle.head()"
   ]
  },
  {
   "cell_type": "code",
   "execution_count": null,
   "id": "8e570dee",
   "metadata": {},
   "outputs": [],
   "source": [
    "for s in energy_equities:\n",
    "    df = energy_equities_dfs[s]\n",
    "    energy_equities_dfs[s] = df.merge(right=xle,how='inner',on=['Year','Month','Day'], suffixes=[None,' ETF'])"
   ]
  },
  {
   "cell_type": "code",
   "execution_count": null,
   "id": "b77fea42",
   "metadata": {},
   "outputs": [],
   "source": [
    "energy_equities_dfs['EGY']"
   ]
  },
  {
   "cell_type": "code",
   "execution_count": null,
   "id": "a31f3db9",
   "metadata": {},
   "outputs": [],
   "source": [
    "for s in energy_equities:\n",
    "    df = energy_equities_dfs[s]\n",
    "    stock_closes = df['Close']\n",
    "    etf_closes = df['Close ETF']\n",
    "    plt.figure()\n",
    "    plt.scatter(etf_closes, stock_closes)\n",
    "    plt.xlabel('ETF Close')\n",
    "    plt.ylabel(s + ' Close')"
   ]
  },
  {
   "cell_type": "code",
   "execution_count": null,
   "id": "35881c1b",
   "metadata": {},
   "outputs": [],
   "source": [
    "import statsmodels.api as sm\n",
    "\n",
    "energy_resid_dict = {}\n",
    "energy_beta_dict = {}\n",
    "\n",
    "for s in energy_equities:\n",
    "    df = energy_equities_dfs[s]\n",
    "    stock_closes = df['Close']\n",
    "    etf_closes = df['Close ETF']\n",
    "    X = np.array(etf_closes).reshape((-1,1))\n",
    "    Y = stock_closes\n",
    "    results = sm.OLS(Y,X).fit()\n",
    "    beta = results.params['x1']\n",
    "    energy_beta_dict[s] = beta\n",
    "    residuals = []\n",
    "    etf_closes = np.array(etf_closes)\n",
    "    stock_closes = np.array(stock_closes)\n",
    "    for idx in range(etf_closes.shape[0]):\n",
    "        residuals.append(stock_closes[idx] - (beta * etf_closes[idx]))\n",
    "    energy_resid_dict[s] = residuals[:]"
   ]
  },
  {
   "cell_type": "code",
   "execution_count": null,
   "id": "a2f44e34",
   "metadata": {},
   "outputs": [],
   "source": [
    "plt.plot(np.arange(0,len(energy_resid_dict['EGY'])),energy_resid_dict['EGY'])"
   ]
  },
  {
   "cell_type": "code",
   "execution_count": null,
   "id": "328d2203",
   "metadata": {},
   "outputs": [],
   "source": [
    "for s in energy_equities:\n",
    "    r = energy_resid_dict[s]\n",
    "    plt.figure()\n",
    "    plt.plot(np.arange(0,len(r)),r)\n",
    "    plt.xlabel('Day index')\n",
    "    plt.ylabel('Residual (Spread)')\n",
    "    plt.title(s)"
   ]
  },
  {
   "cell_type": "code",
   "execution_count": null,
   "id": "11b5e030",
   "metadata": {},
   "outputs": [],
   "source": [
    "from statsmodels.tsa.stattools import adfuller\n",
    "for s in energy_equities:\n",
    "    r = energy_resid_dict[s]\n",
    "    pval = adfuller(r)[1]\n",
    "    if pval < 0.05:\n",
    "        print(s, pval, sep=', ')"
   ]
  },
  {
   "cell_type": "markdown",
   "id": "f9448b99",
   "metadata": {},
   "source": [
    "This is implying that, of the energy equities we sampled, only KNTK, VIVK, and RNGR have stationary spreads"
   ]
  },
  {
   "cell_type": "code",
   "execution_count": null,
   "id": "ecdbd961",
   "metadata": {},
   "outputs": [],
   "source": [
    "import math\n",
    "vivk_resids = energy_resid_dict['VIVK']\n",
    "insample_num = math.floor(0.75 * len(vivk_resids))\n",
    "insample = vivk_resids[:insample_num]\n",
    "outsample = vivk_resids[insample_num:]"
   ]
  },
  {
   "cell_type": "code",
   "execution_count": null,
   "id": "5afe6ecc",
   "metadata": {},
   "outputs": [],
   "source": [
    "mean = pd.Series(insample).describe()['mean']\n",
    "sd = pd.Series(insample).describe()['std']"
   ]
  },
  {
   "cell_type": "code",
   "execution_count": null,
   "id": "bcf2d422",
   "metadata": {},
   "outputs": [],
   "source": [
    "ub = mean + 2*sd\n",
    "lb = mean - 2*sd\n",
    "\n",
    "plt.plot(np.arange(0,len(outsample)),outsample,label='spread')\n",
    "plt.plot(np.arange(0,len(outsample)),np.ones(len(outsample)) * ub,label='ub')\n",
    "plt.plot(np.arange(0,len(outsample)),np.ones(len(outsample)) * lb ,label='lb')"
   ]
  },
  {
   "cell_type": "code",
   "execution_count": null,
   "id": "283a2af8",
   "metadata": {},
   "outputs": [],
   "source": [
    "kntk_resids = energy_resid_dict['KNTK']\n",
    "insample_num = math.floor(0.75 * len(kntk_resids))\n",
    "insample = kntk_resids[:insample_num]\n",
    "outsample = kntk_resids[insample_num:]"
   ]
  },
  {
   "cell_type": "code",
   "execution_count": null,
   "id": "084fe72c",
   "metadata": {},
   "outputs": [],
   "source": [
    "mean = pd.Series(insample).describe()['mean']\n",
    "sd = pd.Series(insample).describe()['std']"
   ]
  },
  {
   "cell_type": "code",
   "execution_count": null,
   "id": "87e8520f",
   "metadata": {},
   "outputs": [],
   "source": [
    "ub = mean + sd\n",
    "lb = mean - sd\n",
    "\n",
    "plt.plot(np.arange(0,len(outsample)),outsample,label='spread')\n",
    "plt.plot(np.arange(0,len(outsample)),np.ones(len(outsample)) * ub,label='ub')\n",
    "plt.plot(np.arange(0,len(outsample)),np.ones(len(outsample)) * lb ,label='lb')\n",
    "plt.plot(np.arange(0,len(outsample)),np.ones(len(outsample)) * mean ,label='mean')"
   ]
  },
  {
   "cell_type": "code",
   "execution_count": null,
   "id": "2ec6c011",
   "metadata": {},
   "outputs": [],
   "source": [
    "rngr_resids = energy_resid_dict['RNGR']\n",
    "insample_num = math.floor(0.75 * len(rngr_resids))\n",
    "insample = rngr_resids[:insample_num]\n",
    "outsample = rngr_resids[insample_num:]"
   ]
  },
  {
   "cell_type": "code",
   "execution_count": null,
   "id": "2a1892a2",
   "metadata": {},
   "outputs": [],
   "source": [
    "mean = pd.Series(insample).describe()['mean']\n",
    "sd = pd.Series(insample).describe()['std']\n",
    "ub = mean + sd\n",
    "lb = mean - sd"
   ]
  },
  {
   "cell_type": "code",
   "execution_count": null,
   "id": "40b511ba",
   "metadata": {},
   "outputs": [],
   "source": [
    "plt.plot(np.arange(0,len(outsample)),outsample,label='spread')\n",
    "plt.plot(np.arange(0,len(outsample)),np.ones(len(outsample)) * ub,label='ub')\n",
    "plt.plot(np.arange(0,len(outsample)),np.ones(len(outsample)) * lb ,label='lb')\n",
    "plt.plot(np.arange(0,len(outsample)),np.ones(len(outsample)) * mean ,label='mean')\n",
    "plt.xlabel('outsample index')\n",
    "plt.ylabel('spread')\n",
    "plt.title('RNGR')\n",
    "plt.legend()"
   ]
  },
  {
   "cell_type": "code",
   "execution_count": null,
   "id": "601fde2a",
   "metadata": {},
   "outputs": [],
   "source": [
    "energy_beta_dict['RNGR']"
   ]
  },
  {
   "cell_type": "code",
   "execution_count": null,
   "id": "7e3c6603",
   "metadata": {},
   "outputs": [],
   "source": [
    "short = False\n",
    "long_ = False\n",
    "open_pos_idx = 0\n",
    "prof = 0\n",
    "num_trades = 0\n",
    "\n",
    "for t in range(len(outsample)):\n",
    "    cur_spread = outsample[t]\n",
    "    if short:\n",
    "        #open position: sold spread\n",
    "        #need to buy to close\n",
    "        if cur_spread < mean + 0.5 * sd:\n",
    "            #close pos by buying spread\n",
    "            prof += outsample[open_pos_idx] - cur_spread\n",
    "            short = False\n",
    "            num_trades+=1\n",
    "            continue\n",
    "        elif t - open_pos_idx > 20: #position open longer than 20 days\n",
    "            num_trades += 1\n",
    "            prof += outsample[open_pos_idx] - cur_spread\n",
    "            short = False\n",
    "            continue\n",
    "        continue\n",
    "    elif long_:\n",
    "        #open position: bought spread\n",
    "        #need to sell to closee\n",
    "        if cur_spread > mean + 0.5 * sd:\n",
    "            prof += cur_spread - outsample[open_pos_idx]\n",
    "            long_ = False\n",
    "            num_trades += 1\n",
    "            continue\n",
    "        elif t - open_pos_idx > 20: #position open longer than 20 days\n",
    "            num_trades+=1\n",
    "            prof += cur_spread - outsample[open_pos_idx]\n",
    "            long_ = False\n",
    "            continue\n",
    "        continue\n",
    "    \n",
    "    if cur_spread < lb:\n",
    "        open_pos_idx = t\n",
    "        long_ = True\n",
    "    elif cur_spread > ub:\n",
    "        open_pos_idx = t\n",
    "        short = True\n",
    "    "
   ]
  },
  {
   "cell_type": "code",
   "execution_count": null,
   "id": "6b8170da",
   "metadata": {},
   "outputs": [],
   "source": [
    "prof"
   ]
  },
  {
   "cell_type": "code",
   "execution_count": null,
   "id": "f6d04fc5",
   "metadata": {},
   "outputs": [],
   "source": [
    "num_trades"
   ]
  },
  {
   "cell_type": "markdown",
   "id": "e55ac1f9",
   "metadata": {},
   "source": [
    "# Repeat what you did for the sample of Energy sector stocks for each sector"
   ]
  },
  {
   "cell_type": "code",
   "execution_count": 7,
   "id": "6a8f3f9d",
   "metadata": {},
   "outputs": [
    {
     "data": {
      "text/plain": [
       "dict_keys(['Technology', 'Healthcare', 'Energy', 'Financials', 'Consumer Staples', 'Utilities', 'Consumer Discretionary', 'Basic Materials', 'Industrials', 'Telecommunications', 'Real Estate'])"
      ]
     },
     "execution_count": 7,
     "metadata": {},
     "output_type": "execute_result"
    }
   ],
   "source": [
    "sectors"
   ]
  },
  {
   "cell_type": "markdown",
   "id": "03665f2f",
   "metadata": {},
   "source": [
    "# Start with Tech"
   ]
  },
  {
   "cell_type": "code",
   "execution_count": 8,
   "id": "7bd035fd",
   "metadata": {},
   "outputs": [],
   "source": [
    "tech_etf = sector_to_etf_dict['Technology']\n",
    "tech_etf_df = yf.Ticker(tech_etf).history(period='max')\n",
    "\n",
    "index = tech_etf_df.index\n",
    "months = []\n",
    "years = []\n",
    "days = []\n",
    "\n",
    "for dt in index:\n",
    "    months.append(int(dt.month))\n",
    "    years.append(int(dt.year))\n",
    "    days.append(int(dt.day))\n",
    "\n",
    "tech_etf_df['Month'] = pd.Series(months, index = index, dtype='int')\n",
    "tech_etf_df['Year'] = pd.Series(years, index = index, dtype='int')\n",
    "tech_etf_df['Day'] = pd.Series(days, index = index, dtype='int')\n",
    "\n",
    "tech_etf_df.reset_index(drop=True, inplace=True)"
   ]
  },
  {
   "cell_type": "code",
   "execution_count": 9,
   "id": "e913c405",
   "metadata": {},
   "outputs": [
    {
     "name": "stdout",
     "output_type": "stream",
     "text": [
      "LIFWZ: 1d data not available for startTime=-2208994789 and endTime=1685822905. Only 100 years worth of day granularity data are allowed to be fetched per request.\n",
      "LIFWZ\n"
     ]
    }
   ],
   "source": [
    "tech_equities = sector_to_symbol_dict['Technology']\n",
    "tech_eq_dfs = {}\n",
    "\n",
    "for s in tech_equities:\n",
    "    try:\n",
    "        if s[len(s)-1] == 'W':\n",
    "            continue\n",
    "        dt = yf.Ticker(s).history(period='max').index[0]\n",
    "        if pd.Timestamp(year=dt.year, month=dt.month, day=dt.day) > pd.Timestamp(year=int(tech_etf_df.iloc[0]['Year']), month = int(tech_etf_df.iloc[0]['Month']), day = int(tech_etf_df.iloc[0]['Day'])):\n",
    "            df = yf.Ticker(s).history(period='max')\n",
    "        else:\n",
    "            if tech_etf_df.iloc[0]['Day'] < 10:\n",
    "                df = yf.Ticker(s).history(start=str(int(tech_etf_df.iloc[0]['Year']))+'-'+str(int(tech_etf_df.iloc[0]['Month']))+'-0'+str(int(tech_etf_df.iloc[0]['Day'])))\n",
    "            else:\n",
    "                df = yf.Ticker(s).history(start=str(int(tech_etf_df.iloc[0]['Year']))+'-'+str(int(tech_etf_df.iloc[0]['Month']))+'-'+str(int(tech_etf_df.iloc[0]['Day'])))\n",
    "\n",
    "        index = df.index\n",
    "        months = []\n",
    "        years = []\n",
    "        days = []\n",
    "\n",
    "        for dt in index:\n",
    "            months.append(dt.month)\n",
    "            years.append(dt.year)\n",
    "            days.append(dt.day)\n",
    "\n",
    "        df['Year'] = pd.Series(years, index = index)\n",
    "        df['Month'] = pd.Series(months, index = index)\n",
    "        df['Day'] = pd.Series(days, index = index)\n",
    "\n",
    "        df.reset_index(drop=True, inplace=True)\n",
    "\n",
    "        df = df.merge(right=tech_etf_df,how='inner',on=['Year','Month','Day'],suffixes=[None,' ETF'])\n",
    "        tech_eq_dfs[s] = df\n",
    "    except:\n",
    "        print(s)\n",
    "    \n",
    "    "
   ]
  },
  {
   "cell_type": "code",
   "execution_count": 10,
   "id": "ef8054a1",
   "metadata": {},
   "outputs": [],
   "source": [
    "tech_equities = list(tech_eq_dfs.keys())\n",
    "num = 0\n",
    "tech_pairs = []\n",
    "for s in tech_equities:\n",
    "    df = tech_eq_dfs[s]\n",
    "    stock_close = df['Close']\n",
    "    etf_close = df['Close ETF']\n",
    "    \n",
    "    #fit linear regression of form (stock_close = beta * etf_close + error) and obtain residuals\n",
    "    ols = sm.OLS(np.array(stock_close).reshape((-1,1)),np.array(etf_close).reshape((-1,1)))\n",
    "    results = ols.fit()\n",
    "    predicted_stock_close = ols.predict(results.params)\n",
    "    residuals = np.subtract(np.array(stock_close),np.array(predicted_stock_close))\n",
    "    \n",
    "    #check if residuals are stationary\n",
    "    pval = adfuller(residuals)[1]\n",
    "    if pval < 0.05:\n",
    "        num+=1\n",
    "        tech_pairs.append((s,sector_to_etf_dict['Technology']))"
   ]
  },
  {
   "cell_type": "code",
   "execution_count": 11,
   "id": "78341c66",
   "metadata": {},
   "outputs": [
    {
     "name": "stdout",
     "output_type": "stream",
     "text": [
      "0.1961904761904762\n"
     ]
    }
   ],
   "source": [
    "print(num/len(list(tech_eq_dfs.keys())))"
   ]
  },
  {
   "cell_type": "markdown",
   "id": "a383b6a6",
   "metadata": {},
   "source": [
    "About 20% of tech stocks have stationary residuals when their closing prices are regressed against the closing prices of the representative ETF for the tech sector"
   ]
  },
  {
   "cell_type": "markdown",
   "id": "d8b332f6",
   "metadata": {},
   "source": [
    "# Healthcare"
   ]
  },
  {
   "cell_type": "code",
   "execution_count": 12,
   "id": "68b2c0bb",
   "metadata": {},
   "outputs": [],
   "source": [
    "hc_etf = sector_to_etf_dict['Healthcare']\n",
    "hc_etf_df = yf.Ticker(hc_etf).history(period='max')\n",
    "\n",
    "index = hc_etf_df.index\n",
    "months = []\n",
    "years = []\n",
    "days = []\n",
    "\n",
    "for dt in index:\n",
    "    months.append(int(dt.month))\n",
    "    years.append(int(dt.year))\n",
    "    days.append(int(dt.day))\n",
    "\n",
    "hc_etf_df['Month'] = pd.Series(months, index = index, dtype='int')\n",
    "hc_etf_df['Year'] = pd.Series(years, index = index, dtype='int')\n",
    "hc_etf_df['Day'] = pd.Series(days, index = index, dtype='int')\n",
    "\n",
    "hc_etf_df.reset_index(drop=True, inplace=True)"
   ]
  },
  {
   "cell_type": "code",
   "execution_count": 14,
   "id": "5330c5c3",
   "metadata": {},
   "outputs": [
    {
     "data": {
      "text/plain": [
       "1012"
      ]
     },
     "execution_count": 14,
     "metadata": {},
     "output_type": "execute_result"
    }
   ],
   "source": [
    "len(sector_to_symbol_dict['Health Care'])"
   ]
  },
  {
   "cell_type": "code",
   "execution_count": 15,
   "id": "0a0e8631",
   "metadata": {},
   "outputs": [
    {
     "name": "stdout",
     "output_type": "stream",
     "text": [
      "0\n",
      "100\n",
      "200\n",
      "300\n",
      "400\n",
      "500\n",
      "600\n",
      "700\n",
      "800\n",
      "900\n",
      "1000\n"
     ]
    }
   ],
   "source": [
    "hc_equities = sector_to_symbol_dict['Health Care']\n",
    "hc_eq_dfs = {}\n",
    "\n",
    "for idx in range(len(hc_equities)):\n",
    "    s = hc_equities[idx]\n",
    "    if idx % 100 == 0:\n",
    "        print(idx)\n",
    "    try:\n",
    "        if len(s) >= 5:\n",
    "            continue\n",
    "        dt = yf.Ticker(s).history(period='max').index[0]\n",
    "        if pd.Timestamp(year=dt.year, month=dt.month, day=dt.day) > pd.Timestamp(year=int(hc_etf_df.iloc[0]['Year']), month = int(hc_etf_df.iloc[0]['Month']), day = int(hc_etf_df.iloc[0]['Day'])):\n",
    "            df = yf.Ticker(s).history(period='max')\n",
    "        else:\n",
    "            if hc_etf_df.iloc[0]['Day'] < 10:\n",
    "                df = yf.Ticker(s).history(start=str(int(hc_etf_df.iloc[0]['Year']))+'-'+str(int(hc_etf_df.iloc[0]['Month']))+'-0'+str(int(hc_etf_df.iloc[0]['Day'])))\n",
    "            else:\n",
    "                df = yf.Ticker(s).history(start=str(int(hc_etf_df.iloc[0]['Year']))+'-'+str(int(hc_etf_df.iloc[0]['Month']))+'-'+str(int(hc_etf_df.iloc[0]['Day'])))\n",
    "\n",
    "        index = df.index\n",
    "        months = []\n",
    "        years = []\n",
    "        days = []\n",
    "\n",
    "        for dt in index:\n",
    "            months.append(dt.month)\n",
    "            years.append(dt.year)\n",
    "            days.append(dt.day)\n",
    "\n",
    "        df['Year'] = pd.Series(years, index = index)\n",
    "        df['Month'] = pd.Series(months, index = index)\n",
    "        df['Day'] = pd.Series(days, index = index)\n",
    "\n",
    "        df.reset_index(drop=True, inplace=True)\n",
    "\n",
    "        df = df.merge(right=hc_etf_df,how='inner',on=['Year','Month','Day'],suffixes=[None,' ETF'])\n",
    "        hc_eq_dfs[s] = df\n",
    "    except:\n",
    "        print(s)\n",
    "    \n",
    "    "
   ]
  },
  {
   "cell_type": "code",
   "execution_count": 16,
   "id": "3b3538bd",
   "metadata": {},
   "outputs": [],
   "source": [
    "hc_equities = list(hc_eq_dfs.keys())\n",
    "num = 0\n",
    "hc_pairs = []\n",
    "for s in hc_equities:\n",
    "    df = hc_eq_dfs[s]\n",
    "    stock_close = df['Close']\n",
    "    etf_close = df['Close ETF']\n",
    "    \n",
    "    #fit linear regression of form (stock_close = beta * etf_close + error) and obtain residuals\n",
    "    ols = sm.OLS(np.array(stock_close).reshape((-1,1)),np.array(etf_close).reshape((-1,1)))\n",
    "    results = ols.fit()\n",
    "    predicted_stock_close = ols.predict(results.params)\n",
    "    residuals = np.subtract(np.array(stock_close),np.array(predicted_stock_close))\n",
    "    \n",
    "    #check if residuals are stationary\n",
    "    pval = adfuller(residuals)[1]\n",
    "    if pval < 0.05:\n",
    "        num+=1\n",
    "        hc_pairs.append((s,sector_to_etf_dict['Healthcare']))"
   ]
  },
  {
   "cell_type": "code",
   "execution_count": 17,
   "id": "19e9d368",
   "metadata": {},
   "outputs": [
    {
     "name": "stdout",
     "output_type": "stream",
     "text": [
      "0.22375397667020147\n"
     ]
    }
   ],
   "source": [
    "print(num/len(hc_equities))"
   ]
  },
  {
   "cell_type": "markdown",
   "id": "3868ece4",
   "metadata": {},
   "source": [
    "about 20% of the healthcare stocks have stationary residuals when their closing prices are regressed against the healtcare ETF's closing prices"
   ]
  },
  {
   "cell_type": "markdown",
   "id": "5e74d80b",
   "metadata": {},
   "source": [
    "# Energy"
   ]
  },
  {
   "cell_type": "code",
   "execution_count": 18,
   "id": "6e8bf024",
   "metadata": {},
   "outputs": [],
   "source": [
    "energy_etf = sector_to_etf_dict['Energy']\n",
    "energy_etf_df = yf.Ticker(energy_etf).history(period='max')\n",
    "\n",
    "index = energy_etf_df.index\n",
    "months = []\n",
    "years = []\n",
    "days = []\n",
    "\n",
    "for dt in index:\n",
    "    months.append(int(dt.month))\n",
    "    years.append(int(dt.year))\n",
    "    days.append(int(dt.day))\n",
    "\n",
    "energy_etf_df['Month'] = pd.Series(months, index = index, dtype='int')\n",
    "energy_etf_df['Year'] = pd.Series(years, index = index, dtype='int')\n",
    "energy_etf_df['Day'] = pd.Series(days, index = index, dtype='int')\n",
    "\n",
    "energy_etf_df.reset_index(drop=True, inplace=True)"
   ]
  },
  {
   "cell_type": "code",
   "execution_count": 19,
   "id": "81a9cf53",
   "metadata": {},
   "outputs": [
    {
     "data": {
      "text/plain": [
       "152"
      ]
     },
     "execution_count": 19,
     "metadata": {},
     "output_type": "execute_result"
    }
   ],
   "source": [
    "len(sector_to_symbol_dict['Energy'])"
   ]
  },
  {
   "cell_type": "code",
   "execution_count": 20,
   "id": "81af2c45",
   "metadata": {},
   "outputs": [
    {
     "name": "stdout",
     "output_type": "stream",
     "text": [
      "0\n",
      "50\n",
      "100\n",
      "150\n"
     ]
    }
   ],
   "source": [
    "energy_equities = sector_to_symbol_dict['Energy']\n",
    "energy_eq_dfs = {}\n",
    "\n",
    "for idx in range(len(energy_equities)):\n",
    "    if idx % 50 == 0:\n",
    "        print(idx)\n",
    "    s = energy_equities[idx]\n",
    "    try:\n",
    "        if len(s) >= 5:\n",
    "            continue\n",
    "        dt = yf.Ticker(s).history(period='max').index[0]\n",
    "        if pd.Timestamp(year=dt.year, month=dt.month, day=dt.day) > pd.Timestamp(year=int(energy_etf_df.iloc[0]['Year']), month = int(energy_etf_df.iloc[0]['Month']), day = int(energy_etf_df.iloc[0]['Day'])):\n",
    "            df = yf.Ticker(s).history(period='max')\n",
    "        else:\n",
    "            if energy_etf_df.iloc[0]['Day'] < 10:\n",
    "                df = yf.Ticker(s).history(start=str(int(energy_etf_df.iloc[0]['Year']))+'-'+str(int(energy_etf_df.iloc[0]['Month']))+'-0'+str(int(energy_etf_df.iloc[0]['Day'])))\n",
    "            else:\n",
    "                df = yf.Ticker(s).history(start=str(int(energy_etf_df.iloc[0]['Year']))+'-'+str(int(energy_etf_df.iloc[0]['Month']))+'-'+str(int(energy_etf_df.iloc[0]['Day'])))\n",
    "\n",
    "        index = df.index\n",
    "        months = []\n",
    "        years = []\n",
    "        days = []\n",
    "\n",
    "        for dt in index:\n",
    "            months.append(dt.month)\n",
    "            years.append(dt.year)\n",
    "            days.append(dt.day)\n",
    "\n",
    "        df['Year'] = pd.Series(years, index = index)\n",
    "        df['Month'] = pd.Series(months, index = index)\n",
    "        df['Day'] = pd.Series(days, index = index)\n",
    "\n",
    "        df.reset_index(drop=True, inplace=True)\n",
    "\n",
    "        df = df.merge(right=energy_etf_df,how='inner',on=['Year','Month','Day'],suffixes=[None,' ETF'])\n",
    "        energy_eq_dfs[s] = df\n",
    "    except:\n",
    "        print(s)\n",
    "    \n",
    "    "
   ]
  },
  {
   "cell_type": "code",
   "execution_count": 21,
   "id": "9832b269",
   "metadata": {},
   "outputs": [],
   "source": [
    "energy_equities = list(energy_eq_dfs.keys())\n",
    "num = 0\n",
    "energy_pairs = []\n",
    "for s in energy_equities:\n",
    "    df = energy_eq_dfs[s]\n",
    "    stock_close = df['Close']\n",
    "    etf_close = df['Close ETF']\n",
    "    \n",
    "    #fit linear regression of form (stock_close = beta * etf_close + error) and obtain residuals\n",
    "    ols = sm.OLS(np.array(stock_close).reshape((-1,1)),np.array(etf_close).reshape((-1,1)))\n",
    "    results = ols.fit()\n",
    "    predicted_stock_close = ols.predict(results.params)\n",
    "    residuals = np.subtract(np.array(stock_close),np.array(predicted_stock_close))\n",
    "    \n",
    "    #check if residuals are stationary\n",
    "    pval = adfuller(residuals)[1]\n",
    "    if pval < 0.05:\n",
    "        num+=1\n",
    "        energy_pairs.append((s,sector_to_etf_dict['Energy']))"
   ]
  },
  {
   "cell_type": "code",
   "execution_count": 22,
   "id": "7f16fa0e",
   "metadata": {},
   "outputs": [
    {
     "name": "stdout",
     "output_type": "stream",
     "text": [
      "0.1736111111111111\n"
     ]
    }
   ],
   "source": [
    "print(num/len(energy_equities))"
   ]
  },
  {
   "cell_type": "markdown",
   "id": "7a5e7e86",
   "metadata": {},
   "source": [
    "# Financials"
   ]
  },
  {
   "cell_type": "code",
   "execution_count": 23,
   "id": "a51566b4",
   "metadata": {},
   "outputs": [],
   "source": [
    "fin_etf = sector_to_etf_dict['Financials']\n",
    "fin_etf_df = yf.Ticker(fin_etf).history(period='max')\n",
    "\n",
    "index = fin_etf_df.index\n",
    "months = []\n",
    "years = []\n",
    "days = []\n",
    "\n",
    "for dt in index:\n",
    "    months.append(int(dt.month))\n",
    "    years.append(int(dt.year))\n",
    "    days.append(int(dt.day))\n",
    "\n",
    "fin_etf_df['Month'] = pd.Series(months, index = index, dtype='int')\n",
    "fin_etf_df['Year'] = pd.Series(years, index = index, dtype='int')\n",
    "fin_etf_df['Day'] = pd.Series(days, index = index, dtype='int')\n",
    "\n",
    "fin_etf_df.reset_index(drop=True, inplace=True)"
   ]
  },
  {
   "cell_type": "code",
   "execution_count": 24,
   "id": "b847ee53",
   "metadata": {},
   "outputs": [
    {
     "data": {
      "text/plain": [
       "1593"
      ]
     },
     "execution_count": 24,
     "metadata": {},
     "output_type": "execute_result"
    }
   ],
   "source": [
    "len(sector_to_symbol_dict['Finance'])"
   ]
  },
  {
   "cell_type": "code",
   "execution_count": 25,
   "id": "a6224e2e",
   "metadata": {},
   "outputs": [
    {
     "name": "stdout",
     "output_type": "stream",
     "text": [
      "0\n",
      "100\n",
      "200\n",
      "300\n",
      "400\n",
      "500\n",
      "600\n",
      "700\n",
      "800\n",
      "900\n",
      "1000\n",
      "1100\n",
      "1200\n",
      "1300\n",
      "SFB: 1d data not available for startTime=-2208994789 and endTime=1685824243. Only 100 years worth of day granularity data are allowed to be fetched per request.\n",
      "SFB\n",
      "1400\n",
      "1500\n"
     ]
    }
   ],
   "source": [
    "fin_equities = sector_to_symbol_dict['Finance']\n",
    "fin_eq_dfs = {}\n",
    "\n",
    "for idx in range(len(fin_equities)):\n",
    "    if idx % 100 == 0:\n",
    "        print(idx)\n",
    "    s = fin_equities[idx]\n",
    "    try:\n",
    "        if len(s) >= 5:\n",
    "            continue\n",
    "        dt = yf.Ticker(s).history(period='max').index[0]\n",
    "        if pd.Timestamp(year=dt.year, month=dt.month, day=dt.day) > pd.Timestamp(year=int(fin_etf_df.iloc[0]['Year']), month = int(fin_etf_df.iloc[0]['Month']), day = int(fin_etf_df.iloc[0]['Day'])):\n",
    "            df = yf.Ticker(s).history(period='max')\n",
    "        else:\n",
    "            if fin_etf_df.iloc[0]['Day'] < 10:\n",
    "                df = yf.Ticker(s).history(start=str(int(fin_etf_df.iloc[0]['Year']))+'-'+str(int(fin_etf_df.iloc[0]['Month']))+'-0'+str(int(fin_etf_df.iloc[0]['Day'])))\n",
    "            else:\n",
    "                df = yf.Ticker(s).history(start=str(int(fin_etf_df.iloc[0]['Year']))+'-'+str(int(fin_etf_df.iloc[0]['Month']))+'-'+str(int(fin_etf_df.iloc[0]['Day'])))\n",
    "\n",
    "        index = df.index\n",
    "        months = []\n",
    "        years = []\n",
    "        days = []\n",
    "\n",
    "        for dt in index:\n",
    "            months.append(dt.month)\n",
    "            years.append(dt.year)\n",
    "            days.append(dt.day)\n",
    "\n",
    "        df['Year'] = pd.Series(years, index = index)\n",
    "        df['Month'] = pd.Series(months, index = index)\n",
    "        df['Day'] = pd.Series(days, index = index)\n",
    "\n",
    "        df.reset_index(drop=True, inplace=True)\n",
    "\n",
    "        df = df.merge(right=fin_etf_df,how='inner',on=['Year','Month','Day'],suffixes=[None,' ETF'])\n",
    "        fin_eq_dfs[s] = df\n",
    "    except:\n",
    "        print(s)\n",
    "    \n",
    "    "
   ]
  },
  {
   "cell_type": "code",
   "execution_count": 26,
   "id": "494d87e9",
   "metadata": {},
   "outputs": [],
   "source": [
    "fin_equities = list(fin_eq_dfs.keys())\n",
    "num = 0\n",
    "fin_pairs = []\n",
    "for s in fin_equities:\n",
    "    df = fin_eq_dfs[s]\n",
    "    stock_close = df['Close']\n",
    "    etf_close = df['Close ETF']\n",
    "    \n",
    "    #fit linear regression of form (stock_close = beta * etf_close + error) and obtain residuals\n",
    "    ols = sm.OLS(np.array(stock_close).reshape((-1,1)),np.array(etf_close).reshape((-1,1)))\n",
    "    results = ols.fit()\n",
    "    predicted_stock_close = ols.predict(results.params)\n",
    "    residuals = np.subtract(np.array(stock_close),np.array(predicted_stock_close))\n",
    "    \n",
    "    #check if residuals are stationary\n",
    "    pval = adfuller(residuals)[1]\n",
    "    if pval < 0.05:\n",
    "        num+=1\n",
    "        fin_pairs.append((s,sector_to_etf_dict['Financials']))"
   ]
  },
  {
   "cell_type": "code",
   "execution_count": 27,
   "id": "cd11ea5a",
   "metadata": {},
   "outputs": [
    {
     "name": "stdout",
     "output_type": "stream",
     "text": [
      "0.05697770437654831\n"
     ]
    }
   ],
   "source": [
    "print(num/len(fin_equities))"
   ]
  },
  {
   "cell_type": "markdown",
   "id": "70e56244",
   "metadata": {},
   "source": [
    "# Consumer Staples"
   ]
  },
  {
   "cell_type": "code",
   "execution_count": 28,
   "id": "98a5e16c",
   "metadata": {},
   "outputs": [],
   "source": [
    "cs_etf = sector_to_etf_dict['Consumer Staples']\n",
    "cs_etf_df = yf.Ticker(cs_etf).history(period='max')\n",
    "\n",
    "index = cs_etf_df.index\n",
    "months = []\n",
    "years = []\n",
    "days = []\n",
    "\n",
    "for dt in index:\n",
    "    months.append(int(dt.month))\n",
    "    years.append(int(dt.year))\n",
    "    days.append(int(dt.day))\n",
    "\n",
    "cs_etf_df['Month'] = pd.Series(months, index = index, dtype='int')\n",
    "cs_etf_df['Year'] = pd.Series(years, index = index, dtype='int')\n",
    "cs_etf_df['Day'] = pd.Series(days, index = index, dtype='int')\n",
    "\n",
    "cs_etf_df.reset_index(drop=True, inplace=True)"
   ]
  },
  {
   "cell_type": "code",
   "execution_count": 29,
   "id": "b639a7eb",
   "metadata": {},
   "outputs": [
    {
     "data": {
      "text/plain": [
       "105"
      ]
     },
     "execution_count": 29,
     "metadata": {},
     "output_type": "execute_result"
    }
   ],
   "source": [
    "len(sector_to_symbol_dict['Consumer Staples'])"
   ]
  },
  {
   "cell_type": "code",
   "execution_count": 30,
   "id": "51ded8ae",
   "metadata": {},
   "outputs": [
    {
     "name": "stdout",
     "output_type": "stream",
     "text": [
      "0\n",
      "10\n",
      "20\n",
      "30\n",
      "40\n",
      "50\n",
      "60\n",
      "70\n",
      "80\n",
      "90\n",
      "100\n"
     ]
    }
   ],
   "source": [
    "cs_equities = sector_to_symbol_dict['Consumer Staples']\n",
    "cs_eq_dfs = {}\n",
    "\n",
    "for idx in range(len(cs_equities)):\n",
    "    if idx % 10 == 0:\n",
    "        print(idx)\n",
    "    s = cs_equities[idx]\n",
    "    try:\n",
    "        if len(s) >= 5:\n",
    "            continue\n",
    "        dt = yf.Ticker(s).history(period='max').index[0]\n",
    "        if pd.Timestamp(year=dt.year, month=dt.month, day=dt.day) > pd.Timestamp(year=int(cs_etf_df.iloc[0]['Year']), month = int(cs_etf_df.iloc[0]['Month']), day = int(cs_etf_df.iloc[0]['Day'])):\n",
    "            df = yf.Ticker(s).history(period='max')\n",
    "        else:\n",
    "            if cs_etf_df.iloc[0]['Day'] < 10:\n",
    "                df = yf.Ticker(s).history(start=str(int(cs_etf_df.iloc[0]['Year']))+'-'+str(int(cs_etf_df.iloc[0]['Month']))+'-0'+str(int(cs_etf_df.iloc[0]['Day'])))\n",
    "            else:\n",
    "                df = yf.Ticker(s).history(start=str(int(cs_etf_df.iloc[0]['Year']))+'-'+str(int(cs_etf_df.iloc[0]['Month']))+'-'+str(int(cs_etf_df.iloc[0]['Day'])))\n",
    "\n",
    "        index = df.index\n",
    "        months = []\n",
    "        years = []\n",
    "        days = []\n",
    "\n",
    "        for dt in index:\n",
    "            months.append(dt.month)\n",
    "            years.append(dt.year)\n",
    "            days.append(dt.day)\n",
    "\n",
    "        df['Year'] = pd.Series(years, index = index)\n",
    "        df['Month'] = pd.Series(months, index = index)\n",
    "        df['Day'] = pd.Series(days, index = index)\n",
    "\n",
    "        df.reset_index(drop=True, inplace=True)\n",
    "\n",
    "        df = df.merge(right=cs_etf_df,how='inner',on=['Year','Month','Day'],suffixes=[None,' ETF'])\n",
    "        cs_eq_dfs[s] = df\n",
    "    except:\n",
    "        print(s)\n",
    "    \n",
    "    "
   ]
  },
  {
   "cell_type": "code",
   "execution_count": 31,
   "id": "85c96442",
   "metadata": {},
   "outputs": [],
   "source": [
    "cs_equities = list(cs_eq_dfs.keys())\n",
    "num = 0\n",
    "cs_pairs = []\n",
    "for s in cs_equities:\n",
    "    df = cs_eq_dfs[s]\n",
    "    stock_close = df['Close']\n",
    "    etf_close = df['Close ETF']\n",
    "    \n",
    "    #fit linear regression of form (stock_close = beta * etf_close + error) and obtain residuals\n",
    "    ols = sm.OLS(np.array(stock_close).reshape((-1,1)),np.array(etf_close).reshape((-1,1)))\n",
    "    results = ols.fit()\n",
    "    predicted_stock_close = ols.predict(results.params)\n",
    "    residuals = np.subtract(np.array(stock_close),np.array(predicted_stock_close))\n",
    "    \n",
    "    #check if residuals are stationary\n",
    "    pval = adfuller(residuals)[1]\n",
    "    if pval < 0.05:\n",
    "        num+=1\n",
    "        cs_pairs.append((s,sector_to_etf_dict['Consumer Staples']))"
   ]
  },
  {
   "cell_type": "code",
   "execution_count": 32,
   "id": "b299bfa4",
   "metadata": {},
   "outputs": [
    {
     "name": "stdout",
     "output_type": "stream",
     "text": [
      "0.1111111111111111\n"
     ]
    }
   ],
   "source": [
    "print(num/len(cs_equities))"
   ]
  },
  {
   "cell_type": "markdown",
   "id": "4b1b8b7e",
   "metadata": {},
   "source": [
    "# Utilities"
   ]
  },
  {
   "cell_type": "code",
   "execution_count": 33,
   "id": "9c8e50ef",
   "metadata": {},
   "outputs": [],
   "source": [
    "util_etf = sector_to_etf_dict['Utilities']\n",
    "util_etf_df = yf.Ticker(util_etf).history(period='max')\n",
    "\n",
    "index = util_etf_df.index\n",
    "months = []\n",
    "years = []\n",
    "days = []\n",
    "\n",
    "for dt in index:\n",
    "    months.append(int(dt.month))\n",
    "    years.append(int(dt.year))\n",
    "    days.append(int(dt.day))\n",
    "\n",
    "util_etf_df['Month'] = pd.Series(months, index = index, dtype='int')\n",
    "util_etf_df['Year'] = pd.Series(years, index = index, dtype='int')\n",
    "util_etf_df['Day'] = pd.Series(days, index = index, dtype='int')\n",
    "\n",
    "util_etf_df.reset_index(drop=True, inplace=True)"
   ]
  },
  {
   "cell_type": "code",
   "execution_count": 34,
   "id": "c485e075",
   "metadata": {},
   "outputs": [
    {
     "data": {
      "text/plain": [
       "135"
      ]
     },
     "execution_count": 34,
     "metadata": {},
     "output_type": "execute_result"
    }
   ],
   "source": [
    "len(sector_to_symbol_dict['Utilities'])"
   ]
  },
  {
   "cell_type": "code",
   "execution_count": 35,
   "id": "d2e9334f",
   "metadata": {},
   "outputs": [
    {
     "name": "stdout",
     "output_type": "stream",
     "text": [
      "0\n",
      "10\n",
      "20\n",
      "30\n",
      "40\n",
      "EAI: No data found for this date range, symbol may be delisted\n",
      "EAI\n",
      "50\n",
      "60\n",
      "70\n",
      "80\n",
      "90\n",
      "100\n",
      "110\n",
      "120\n",
      "130\n"
     ]
    }
   ],
   "source": [
    "util_equities = sector_to_symbol_dict['Utilities']\n",
    "util_eq_dfs = {}\n",
    "\n",
    "for idx in range(len(util_equities)):\n",
    "    if idx % 10 == 0:\n",
    "        print(idx)\n",
    "    s = util_equities[idx]\n",
    "    try:\n",
    "        if len(s) >= 5:\n",
    "            continue\n",
    "        dt = yf.Ticker(s).history(period='max').index[0]\n",
    "        if pd.Timestamp(year=dt.year, month=dt.month, day=dt.day) > pd.Timestamp(year=int(util_etf_df.iloc[0]['Year']), month = int(util_etf_df.iloc[0]['Month']), day = int(util_etf_df.iloc[0]['Day'])):\n",
    "            df = yf.Ticker(s).history(period='max')\n",
    "        else:\n",
    "            if util_etf_df.iloc[0]['Day'] < 10:\n",
    "                df = yf.Ticker(s).history(start=str(int(util_etf_df.iloc[0]['Year']))+'-'+str(int(util_etf_df.iloc[0]['Month']))+'-0'+str(int(util_etf_df.iloc[0]['Day'])))\n",
    "            else:\n",
    "                df = yf.Ticker(s).history(start=str(int(util_etf_df.iloc[0]['Year']))+'-'+str(int(util_etf_df.iloc[0]['Month']))+'-'+str(int(util_etf_df.iloc[0]['Day'])))\n",
    "\n",
    "        index = df.index\n",
    "        months = []\n",
    "        years = []\n",
    "        days = []\n",
    "\n",
    "        for dt in index:\n",
    "            months.append(dt.month)\n",
    "            years.append(dt.year)\n",
    "            days.append(dt.day)\n",
    "\n",
    "        df['Year'] = pd.Series(years, index = index)\n",
    "        df['Month'] = pd.Series(months, index = index)\n",
    "        df['Day'] = pd.Series(days, index = index)\n",
    "\n",
    "        df.reset_index(drop=True, inplace=True)\n",
    "\n",
    "        df = df.merge(right=util_etf_df,how='inner',on=['Year','Month','Day'],suffixes=[None,' ETF'])\n",
    "        util_eq_dfs[s] = df\n",
    "    except:\n",
    "        print(s)\n",
    "    \n",
    "    "
   ]
  },
  {
   "cell_type": "code",
   "execution_count": 36,
   "id": "42509dbd",
   "metadata": {},
   "outputs": [],
   "source": [
    "util_equities = list(util_eq_dfs.keys())\n",
    "num = 0\n",
    "util_pairs = []\n",
    "for s in util_equities:\n",
    "    df = util_eq_dfs[s]\n",
    "    stock_close = df['Close']\n",
    "    etf_close = df['Close ETF']\n",
    "    \n",
    "    #fit linear regression of form (stock_close = beta * etf_close + error) and obtain residuals\n",
    "    ols = sm.OLS(np.array(stock_close).reshape((-1,1)),np.array(etf_close).reshape((-1,1)))\n",
    "    results = ols.fit()\n",
    "    predicted_stock_close = ols.predict(results.params)\n",
    "    residuals = np.subtract(np.array(stock_close),np.array(predicted_stock_close))\n",
    "    \n",
    "    #check if residuals are stationary\n",
    "    pval = adfuller(residuals)[1]\n",
    "    if pval < 0.05:\n",
    "        num+=1\n",
    "        util_pairs.append((s,sector_to_etf_dict['Utilities']))"
   ]
  },
  {
   "cell_type": "code",
   "execution_count": 37,
   "id": "ec3c0fc3",
   "metadata": {},
   "outputs": [
    {
     "name": "stdout",
     "output_type": "stream",
     "text": [
      "0.1111111111111111\n"
     ]
    }
   ],
   "source": [
    "print(num/len(util_equities))"
   ]
  },
  {
   "cell_type": "markdown",
   "id": "af2c7a6d",
   "metadata": {},
   "source": [
    "# Consumer Discretionary"
   ]
  },
  {
   "cell_type": "code",
   "execution_count": 38,
   "id": "54ebe2cd",
   "metadata": {},
   "outputs": [],
   "source": [
    "cd_etf = sector_to_etf_dict['Consumer Discretionary']\n",
    "cd_etf_df = yf.Ticker(cd_etf).history(period='max')\n",
    "\n",
    "index = cd_etf_df.index\n",
    "months = []\n",
    "years = []\n",
    "days = []\n",
    "\n",
    "for dt in index:\n",
    "    months.append(int(dt.month))\n",
    "    years.append(int(dt.year))\n",
    "    days.append(int(dt.day))\n",
    "\n",
    "cd_etf_df['Month'] = pd.Series(months, index = index, dtype='int')\n",
    "cd_etf_df['Year'] = pd.Series(years, index = index, dtype='int')\n",
    "cd_etf_df['Day'] = pd.Series(days, index = index, dtype='int')\n",
    "\n",
    "cd_etf_df.reset_index(drop=True, inplace=True)"
   ]
  },
  {
   "cell_type": "code",
   "execution_count": 39,
   "id": "4e455a58",
   "metadata": {},
   "outputs": [
    {
     "data": {
      "text/plain": [
       "817"
      ]
     },
     "execution_count": 39,
     "metadata": {},
     "output_type": "execute_result"
    }
   ],
   "source": [
    "len(sector_to_symbol_dict['Consumer Discretionary'])"
   ]
  },
  {
   "cell_type": "code",
   "execution_count": 40,
   "id": "f263b7cf",
   "metadata": {},
   "outputs": [
    {
     "name": "stdout",
     "output_type": "stream",
     "text": [
      "0\n",
      "100\n",
      "200\n",
      "300\n",
      "400\n",
      "500\n",
      "600\n",
      "700\n",
      "800\n"
     ]
    }
   ],
   "source": [
    "cd_equities = sector_to_symbol_dict['Consumer Discretionary']\n",
    "cd_eq_dfs = {}\n",
    "\n",
    "for idx in range(len(cd_equities)):\n",
    "    if idx % 100 == 0:\n",
    "        print(idx)\n",
    "    s = cd_equities[idx]\n",
    "    try:\n",
    "        if len(s) >= 5:\n",
    "            continue\n",
    "        dt = yf.Ticker(s).history(period='max').index[0]\n",
    "        if pd.Timestamp(year=dt.year, month=dt.month, day=dt.day) > pd.Timestamp(year=int(cd_etf_df.iloc[0]['Year']), month = int(cd_etf_df.iloc[0]['Month']), day = int(cd_etf_df.iloc[0]['Day'])):\n",
    "            df = yf.Ticker(s).history(period='max')\n",
    "        else:\n",
    "            if cd_etf_df.iloc[0]['Day'] < 10:\n",
    "                df = yf.Ticker(s).history(start=str(int(cd_etf_df.iloc[0]['Year']))+'-'+str(int(cd_etf_df.iloc[0]['Month']))+'-0'+str(int(cd_etf_df.iloc[0]['Day'])))\n",
    "            else:\n",
    "                df = yf.Ticker(s).history(start=str(int(cd_etf_df.iloc[0]['Year']))+'-'+str(int(cd_etf_df.iloc[0]['Month']))+'-'+str(int(cd_etf_df.iloc[0]['Day'])))\n",
    "\n",
    "        index = df.index\n",
    "        months = []\n",
    "        years = []\n",
    "        days = []\n",
    "\n",
    "        for dt in index:\n",
    "            months.append(dt.month)\n",
    "            years.append(dt.year)\n",
    "            days.append(dt.day)\n",
    "\n",
    "        df['Year'] = pd.Series(years, index = index)\n",
    "        df['Month'] = pd.Series(months, index = index)\n",
    "        df['Day'] = pd.Series(days, index = index)\n",
    "\n",
    "        df.reset_index(drop=True, inplace=True)\n",
    "\n",
    "        df = df.merge(right=cd_etf_df,how='inner',on=['Year','Month','Day'],suffixes=[None,' ETF'])\n",
    "        cd_eq_dfs[s] = df\n",
    "    except:\n",
    "        print(s)\n",
    "    \n",
    "    "
   ]
  },
  {
   "cell_type": "code",
   "execution_count": 41,
   "id": "7f61f3e0",
   "metadata": {},
   "outputs": [],
   "source": [
    "cd_equities = list(cd_eq_dfs.keys())\n",
    "num = 0\n",
    "cd_pairs = []\n",
    "for s in cd_equities:\n",
    "    df = cd_eq_dfs[s]\n",
    "    stock_close = df['Close']\n",
    "    etf_close = df['Close ETF']\n",
    "    \n",
    "    #fit linear regression of form (stock_close = beta * etf_close + error) and obtain residuals\n",
    "    ols = sm.OLS(np.array(stock_close).reshape((-1,1)),np.array(etf_close).reshape((-1,1)))\n",
    "    results = ols.fit()\n",
    "    predicted_stock_close = ols.predict(results.params)\n",
    "    residuals = np.subtract(np.array(stock_close),np.array(predicted_stock_close))\n",
    "    \n",
    "    #check if residuals are stationary\n",
    "    pval = adfuller(residuals)[1]\n",
    "    if pval < 0.05:\n",
    "        num+=1\n",
    "        cd_pairs.append((s,sector_to_etf_dict['Consumer Discretionary']))"
   ]
  },
  {
   "cell_type": "code",
   "execution_count": 42,
   "id": "f46914ea",
   "metadata": {},
   "outputs": [
    {
     "name": "stdout",
     "output_type": "stream",
     "text": [
      "0.19414893617021275\n"
     ]
    }
   ],
   "source": [
    "print(num/len(cd_equities))"
   ]
  },
  {
   "cell_type": "markdown",
   "id": "2a644b07",
   "metadata": {},
   "source": [
    "# Basic Materials"
   ]
  },
  {
   "cell_type": "code",
   "execution_count": 43,
   "id": "42e0150f",
   "metadata": {},
   "outputs": [],
   "source": [
    "bm_etf = sector_to_etf_dict['Basic Materials']\n",
    "bm_etf_df = yf.Ticker(bm_etf).history(period='max')\n",
    "\n",
    "index = bm_etf_df.index\n",
    "months = []\n",
    "years = []\n",
    "days = []\n",
    "\n",
    "for dt in index:\n",
    "    months.append(int(dt.month))\n",
    "    years.append(int(dt.year))\n",
    "    days.append(int(dt.day))\n",
    "\n",
    "bm_etf_df['Month'] = pd.Series(months, index = index, dtype='int')\n",
    "bm_etf_df['Year'] = pd.Series(years, index = index, dtype='int')\n",
    "bm_etf_df['Day'] = pd.Series(days, index = index, dtype='int')\n",
    "\n",
    "bm_etf_df.reset_index(drop=True, inplace=True)"
   ]
  },
  {
   "cell_type": "code",
   "execution_count": 44,
   "id": "5a5a090b",
   "metadata": {},
   "outputs": [
    {
     "data": {
      "text/plain": [
       "35"
      ]
     },
     "execution_count": 44,
     "metadata": {},
     "output_type": "execute_result"
    }
   ],
   "source": [
    "len(sector_to_symbol_dict['Basic Materials'])"
   ]
  },
  {
   "cell_type": "code",
   "execution_count": 45,
   "id": "00fa231b",
   "metadata": {},
   "outputs": [
    {
     "name": "stdout",
     "output_type": "stream",
     "text": [
      "0\n"
     ]
    }
   ],
   "source": [
    "bm_equities = sector_to_symbol_dict['Basic Materials']\n",
    "bm_eq_dfs = {}\n",
    "\n",
    "for idx in range(len(bm_equities)):\n",
    "    if idx % 100 == 0:\n",
    "        print(idx)\n",
    "    s = bm_equities[idx]\n",
    "    try:\n",
    "        if len(s) >= 5:\n",
    "            continue\n",
    "        dt = yf.Ticker(s).history(period='max').index[0]\n",
    "        if pd.Timestamp(year=dt.year, month=dt.month, day=dt.day) > pd.Timestamp(year=int(bm_etf_df.iloc[0]['Year']), month = int(bm_etf_df.iloc[0]['Month']), day = int(bm_etf_df.iloc[0]['Day'])):\n",
    "            df = yf.Ticker(s).history(period='max')\n",
    "        else:\n",
    "            if bm_etf_df.iloc[0]['Day'] < 10:\n",
    "                df = yf.Ticker(s).history(start=str(int(bm_etf_df.iloc[0]['Year']))+'-'+str(int(bm_etf_df.iloc[0]['Month']))+'-0'+str(int(bm_etf_df.iloc[0]['Day'])))\n",
    "            else:\n",
    "                df = yf.Ticker(s).history(start=str(int(bm_etf_df.iloc[0]['Year']))+'-'+str(int(bm_etf_df.iloc[0]['Month']))+'-'+str(int(bm_etf_df.iloc[0]['Day'])))\n",
    "\n",
    "        index = df.index\n",
    "        months = []\n",
    "        years = []\n",
    "        days = []\n",
    "\n",
    "        for dt in index:\n",
    "            months.append(dt.month)\n",
    "            years.append(dt.year)\n",
    "            days.append(dt.day)\n",
    "\n",
    "        df['Year'] = pd.Series(years, index = index)\n",
    "        df['Month'] = pd.Series(months, index = index)\n",
    "        df['Day'] = pd.Series(days, index = index)\n",
    "\n",
    "        df.reset_index(drop=True, inplace=True)\n",
    "\n",
    "        df = df.merge(right=bm_etf_df,how='inner',on=['Year','Month','Day'],suffixes=[None,' ETF'])\n",
    "        bm_eq_dfs[s] = df\n",
    "    except:\n",
    "        print(s)\n",
    "    \n",
    "    "
   ]
  },
  {
   "cell_type": "code",
   "execution_count": 46,
   "id": "98050952",
   "metadata": {},
   "outputs": [],
   "source": [
    "bm_equities = list(bm_eq_dfs.keys())\n",
    "num = 0\n",
    "bm_pairs = []\n",
    "for s in bm_equities:\n",
    "    df = bm_eq_dfs[s]\n",
    "    stock_close = df['Close']\n",
    "    etf_close = df['Close ETF']\n",
    "    \n",
    "    #fit linear regression of form (stock_close = beta * etf_close + error) and obtain residuals\n",
    "    ols = sm.OLS(np.array(stock_close).reshape((-1,1)),np.array(etf_close).reshape((-1,1)))\n",
    "    results = ols.fit()\n",
    "    predicted_stock_close = ols.predict(results.params)\n",
    "    residuals = np.subtract(np.array(stock_close),np.array(predicted_stock_close))\n",
    "    \n",
    "    #check if residuals are stationary\n",
    "    pval = adfuller(residuals)[1]\n",
    "    if pval < 0.05:\n",
    "        num+=1\n",
    "        bm_pairs.append((s,sector_to_etf_dict['Basic Materials']))"
   ]
  },
  {
   "cell_type": "code",
   "execution_count": 47,
   "id": "6976661a",
   "metadata": {},
   "outputs": [
    {
     "name": "stdout",
     "output_type": "stream",
     "text": [
      "0.06451612903225806\n"
     ]
    }
   ],
   "source": [
    "print(num/len(bm_equities))"
   ]
  },
  {
   "cell_type": "markdown",
   "id": "29454d1e",
   "metadata": {},
   "source": [
    "# Industrials"
   ]
  },
  {
   "cell_type": "code",
   "execution_count": 48,
   "id": "9d2e9820",
   "metadata": {},
   "outputs": [],
   "source": [
    "ind_etf = sector_to_etf_dict['Industrials']\n",
    "ind_etf_df = yf.Ticker(ind_etf).history(period='max')\n",
    "\n",
    "index = ind_etf_df.index\n",
    "months = []\n",
    "years = []\n",
    "days = []\n",
    "\n",
    "for dt in index:\n",
    "    months.append(int(dt.month))\n",
    "    years.append(int(dt.year))\n",
    "    days.append(int(dt.day))\n",
    "\n",
    "ind_etf_df['Month'] = pd.Series(months, index = index, dtype='int')\n",
    "ind_etf_df['Year'] = pd.Series(years, index = index, dtype='int')\n",
    "ind_etf_df['Day'] = pd.Series(days, index = index, dtype='int')\n",
    "\n",
    "ind_etf_df.reset_index(drop=True, inplace=True)"
   ]
  },
  {
   "cell_type": "code",
   "execution_count": 49,
   "id": "5170969d",
   "metadata": {},
   "outputs": [
    {
     "data": {
      "text/plain": [
       "446"
      ]
     },
     "execution_count": 49,
     "metadata": {},
     "output_type": "execute_result"
    }
   ],
   "source": [
    "len(sector_to_symbol_dict['Industrials'])"
   ]
  },
  {
   "cell_type": "code",
   "execution_count": 50,
   "id": "f6ecb730",
   "metadata": {},
   "outputs": [
    {
     "name": "stdout",
     "output_type": "stream",
     "text": [
      "0\n",
      "100\n",
      "200\n",
      "300\n",
      "400\n"
     ]
    }
   ],
   "source": [
    "ind_equities = sector_to_symbol_dict['Industrials']\n",
    "ind_eq_dfs = {}\n",
    "\n",
    "for idx in range(len(ind_equities)):\n",
    "    if idx % 100 == 0:\n",
    "        print(idx)\n",
    "    s = ind_equities[idx]\n",
    "    try:\n",
    "        if len(s) >= 5:\n",
    "            continue\n",
    "        dt = yf.Ticker(s).history(period='max').index[0]\n",
    "        if pd.Timestamp(year=dt.year, month=dt.month, day=dt.day) > pd.Timestamp(year=int(ind_etf_df.iloc[0]['Year']), month = int(ind_etf_df.iloc[0]['Month']), day = int(ind_etf_df.iloc[0]['Day'])):\n",
    "            df = yf.Ticker(s).history(period='max')\n",
    "        else:\n",
    "            if ind_etf_df.iloc[0]['Day'] < 10:\n",
    "                df = yf.Ticker(s).history(start=str(int(ind_etf_df.iloc[0]['Year']))+'-'+str(int(ind_etf_df.iloc[0]['Month']))+'-0'+str(int(ind_etf_df.iloc[0]['Day'])))\n",
    "            else:\n",
    "                df = yf.Ticker(s).history(start=str(int(ind_etf_df.iloc[0]['Year']))+'-'+str(int(ind_etf_df.iloc[0]['Month']))+'-'+str(int(ind_etf_df.iloc[0]['Day'])))\n",
    "\n",
    "        index = df.index\n",
    "        months = []\n",
    "        years = []\n",
    "        days = []\n",
    "\n",
    "        for dt in index:\n",
    "            months.append(dt.month)\n",
    "            years.append(dt.year)\n",
    "            days.append(dt.day)\n",
    "\n",
    "        df['Year'] = pd.Series(years, index = index)\n",
    "        df['Month'] = pd.Series(months, index = index)\n",
    "        df['Day'] = pd.Series(days, index = index)\n",
    "\n",
    "        df.reset_index(drop=True, inplace=True)\n",
    "\n",
    "        df = df.merge(right=ind_etf_df,how='inner',on=['Year','Month','Day'],suffixes=[None,' ETF'])\n",
    "        ind_eq_dfs[s] = df\n",
    "    except:\n",
    "        print(s)\n",
    "    \n",
    "    "
   ]
  },
  {
   "cell_type": "code",
   "execution_count": 51,
   "id": "3d74617b",
   "metadata": {},
   "outputs": [],
   "source": [
    "ind_equities = list(ind_eq_dfs.keys())\n",
    "num = 0\n",
    "ind_pairs = []\n",
    "for s in ind_equities:\n",
    "    df = ind_eq_dfs[s]\n",
    "    stock_close = df['Close']\n",
    "    etf_close = df['Close ETF']\n",
    "    \n",
    "    #fit linear regression of form (stock_close = beta * etf_close + error) and obtain residuals\n",
    "    ols = sm.OLS(np.array(stock_close).reshape((-1,1)),np.array(etf_close).reshape((-1,1)))\n",
    "    results = ols.fit()\n",
    "    predicted_stock_close = ols.predict(results.params)\n",
    "    residuals = np.subtract(np.array(stock_close),np.array(predicted_stock_close))\n",
    "    \n",
    "    #check if residuals are stationary\n",
    "    pval = adfuller(residuals)[1]\n",
    "    if pval < 0.05:\n",
    "        num+=1\n",
    "        ind_pairs.append((s,sector_to_etf_dict['Industrials']))"
   ]
  },
  {
   "cell_type": "code",
   "execution_count": 52,
   "id": "4278a0ef",
   "metadata": {},
   "outputs": [
    {
     "name": "stdout",
     "output_type": "stream",
     "text": [
      "0.1473429951690821\n"
     ]
    }
   ],
   "source": [
    "print(num/len(ind_equities))"
   ]
  },
  {
   "cell_type": "markdown",
   "id": "6110e825",
   "metadata": {},
   "source": [
    "# Telecommunications"
   ]
  },
  {
   "cell_type": "code",
   "execution_count": 53,
   "id": "72224d0a",
   "metadata": {},
   "outputs": [],
   "source": [
    "tc_etf = sector_to_etf_dict['Telecommunications']\n",
    "tc_etf_df = yf.Ticker(tc_etf).history(period='max')\n",
    "\n",
    "index = tc_etf_df.index\n",
    "months = []\n",
    "years = []\n",
    "days = []\n",
    "\n",
    "for dt in index:\n",
    "    months.append(int(dt.month))\n",
    "    years.append(int(dt.year))\n",
    "    days.append(int(dt.day))\n",
    "\n",
    "tc_etf_df['Month'] = pd.Series(months, index = index, dtype='int')\n",
    "tc_etf_df['Year'] = pd.Series(years, index = index, dtype='int')\n",
    "tc_etf_df['Day'] = pd.Series(days, index = index, dtype='int')\n",
    "\n",
    "tc_etf_df.reset_index(drop=True, inplace=True)"
   ]
  },
  {
   "cell_type": "code",
   "execution_count": 54,
   "id": "0ca836c9",
   "metadata": {},
   "outputs": [
    {
     "name": "stdout",
     "output_type": "stream",
     "text": [
      "0\n"
     ]
    }
   ],
   "source": [
    "tc_equities = sector_to_symbol_dict['Telecommunications']\n",
    "tc_eq_dfs = {}\n",
    "\n",
    "for idx in range(len(tc_equities)):\n",
    "    if idx % 100 == 0:\n",
    "        print(idx)\n",
    "    s = tc_equities[idx]\n",
    "    try:\n",
    "        if len(s) >= 5:\n",
    "            continue\n",
    "        dt = yf.Ticker(s).history(period='max').index[0]\n",
    "        if pd.Timestamp(year=dt.year, month=dt.month, day=dt.day) > pd.Timestamp(year=int(tc_etf_df.iloc[0]['Year']), month = int(tc_etf_df.iloc[0]['Month']), day = int(tc_etf_df.iloc[0]['Day'])):\n",
    "            df = yf.Ticker(s).history(period='max')\n",
    "        else:\n",
    "            if tc_etf_df.iloc[0]['Day'] < 10:\n",
    "                df = yf.Ticker(s).history(start=str(int(tc_etf_df.iloc[0]['Year']))+'-'+str(int(tc_etf_df.iloc[0]['Month']))+'-0'+str(int(tc_etf_df.iloc[0]['Day'])))\n",
    "            else:\n",
    "                df = yf.Ticker(s).history(start=str(int(tc_etf_df.iloc[0]['Year']))+'-'+str(int(tc_etf_df.iloc[0]['Month']))+'-'+str(int(tc_etf_df.iloc[0]['Day'])))\n",
    "\n",
    "        index = df.index\n",
    "        months = []\n",
    "        years = []\n",
    "        days = []\n",
    "\n",
    "        for dt in index:\n",
    "            months.append(dt.month)\n",
    "            years.append(dt.year)\n",
    "            days.append(dt.day)\n",
    "\n",
    "        df['Year'] = pd.Series(years, index = index)\n",
    "        df['Month'] = pd.Series(months, index = index)\n",
    "        df['Day'] = pd.Series(days, index = index)\n",
    "\n",
    "        df.reset_index(drop=True, inplace=True)\n",
    "\n",
    "        df = df.merge(right=tc_etf_df,how='inner',on=['Year','Month','Day'],suffixes=[None,' ETF'])\n",
    "        tc_eq_dfs[s] = df\n",
    "    except:\n",
    "        print(s)\n",
    "    \n",
    "    "
   ]
  },
  {
   "cell_type": "code",
   "execution_count": 55,
   "id": "f7a19c76",
   "metadata": {},
   "outputs": [],
   "source": [
    "tc_equities = list(tc_eq_dfs.keys())\n",
    "num = 0\n",
    "tc_pairs = []\n",
    "for s in tc_equities:\n",
    "    df = tc_eq_dfs[s]\n",
    "    stock_close = df['Close']\n",
    "    etf_close = df['Close ETF']\n",
    "    \n",
    "    #fit linear regression of form (stock_close = beta * etf_close + error) and obtain residuals\n",
    "    ols = sm.OLS(np.array(stock_close).reshape((-1,1)),np.array(etf_close).reshape((-1,1)))\n",
    "    results = ols.fit()\n",
    "    predicted_stock_close = ols.predict(results.params)\n",
    "    residuals = np.subtract(np.array(stock_close),np.array(predicted_stock_close))\n",
    "    \n",
    "    #check if residuals are stationary\n",
    "    pval = adfuller(residuals)[1]\n",
    "    if pval < 0.05:\n",
    "        num+=1\n",
    "        tc_pairs.append((s,sector_to_etf_dict['Industrials']))"
   ]
  },
  {
   "cell_type": "markdown",
   "id": "b84c8154",
   "metadata": {},
   "source": [
    "# Real Estate"
   ]
  },
  {
   "cell_type": "code",
   "execution_count": 56,
   "id": "4f257db4",
   "metadata": {},
   "outputs": [],
   "source": [
    "re_etf = sector_to_etf_dict['Real Estate']\n",
    "re_etf_df = yf.Ticker(re_etf).history(period='max')\n",
    "\n",
    "index = re_etf_df.index\n",
    "months = []\n",
    "years = []\n",
    "days = []\n",
    "\n",
    "for dt in index:\n",
    "    months.append(int(dt.month))\n",
    "    years.append(int(dt.year))\n",
    "    days.append(int(dt.day))\n",
    "\n",
    "re_etf_df['Month'] = pd.Series(months, index = index, dtype='int')\n",
    "re_etf_df['Year'] = pd.Series(years, index = index, dtype='int')\n",
    "re_etf_df['Day'] = pd.Series(days, index = index, dtype='int')\n",
    "\n",
    "re_etf_df.reset_index(drop=True, inplace=True)"
   ]
  },
  {
   "cell_type": "code",
   "execution_count": 57,
   "id": "61a33477",
   "metadata": {},
   "outputs": [
    {
     "name": "stdout",
     "output_type": "stream",
     "text": [
      "0\n",
      "100\n",
      "200\n"
     ]
    }
   ],
   "source": [
    "re_equities = sector_to_symbol_dict['Real Estate']\n",
    "re_eq_dfs = {}\n",
    "\n",
    "for idx in range(len(re_equities)):\n",
    "    if idx % 100 == 0:\n",
    "        print(idx)\n",
    "    s = re_equities[idx]\n",
    "    try:\n",
    "        if len(s) >= 5:\n",
    "            continue\n",
    "        dt = yf.Ticker(s).history(period='max').index[0]\n",
    "        if pd.Timestamp(year=dt.year, month=dt.month, day=dt.day) > pd.Timestamp(year=int(re_etf_df.iloc[0]['Year']), month = int(re_etf_df.iloc[0]['Month']), day = int(re_etf_df.iloc[0]['Day'])):\n",
    "            df = yf.Ticker(s).history(period='max')\n",
    "        else:\n",
    "            if re_etf_df.iloc[0]['Day'] < 10:\n",
    "                df = yf.Ticker(s).history(start=str(int(re_etf_df.iloc[0]['Year']))+'-'+str(int(re_etf_df.iloc[0]['Month']))+'-0'+str(int(re_etf_df.iloc[0]['Day'])))\n",
    "            else:\n",
    "                df = yf.Ticker(s).history(start=str(int(re_etf_df.iloc[0]['Year']))+'-'+str(int(re_etf_df.iloc[0]['Month']))+'-'+str(int(re_etf_df.iloc[0]['Day'])))\n",
    "\n",
    "        index = df.index\n",
    "        months = []\n",
    "        years = []\n",
    "        days = []\n",
    "\n",
    "        for dt in index:\n",
    "            months.append(dt.month)\n",
    "            years.append(dt.year)\n",
    "            days.append(dt.day)\n",
    "\n",
    "        df['Year'] = pd.Series(years, index = index)\n",
    "        df['Month'] = pd.Series(months, index = index)\n",
    "        df['Day'] = pd.Series(days, index = index)\n",
    "\n",
    "        df.reset_index(drop=True, inplace=True)\n",
    "\n",
    "        df = df.merge(right=re_etf_df,how='inner',on=['Year','Month','Day'],suffixes=[None,' ETF'])\n",
    "        re_eq_dfs[s] = df\n",
    "    except:\n",
    "        print(s)\n",
    "    \n",
    "    "
   ]
  },
  {
   "cell_type": "code",
   "execution_count": 58,
   "id": "3395e67f",
   "metadata": {},
   "outputs": [],
   "source": [
    "re_equities = list(re_eq_dfs.keys())\n",
    "num = 0\n",
    "re_pairs = []\n",
    "for s in re_equities:\n",
    "    df = re_eq_dfs[s]\n",
    "    stock_close = df['Close']\n",
    "    etf_close = df['Close ETF']\n",
    "    \n",
    "    #fit linear regression of form (stock_close = beta * etf_close + error) and obtain residuals\n",
    "    ols = sm.OLS(np.array(stock_close).reshape((-1,1)),np.array(etf_close).reshape((-1,1)))\n",
    "    results = ols.fit()\n",
    "    predicted_stock_close = ols.predict(results.params)\n",
    "    residuals = np.subtract(np.array(stock_close),np.array(predicted_stock_close))\n",
    "    \n",
    "    #check if residuals are stationary\n",
    "    pval = adfuller(residuals)[1]\n",
    "    if pval < 0.05:\n",
    "        num+=1\n",
    "        re_pairs.append((s,sector_to_etf_dict['Real Estate']))"
   ]
  },
  {
   "cell_type": "markdown",
   "id": "b493fe36",
   "metadata": {},
   "source": [
    "# Write pairs to a file"
   ]
  },
  {
   "cell_type": "code",
   "execution_count": 59,
   "id": "42e330ce",
   "metadata": {},
   "outputs": [
    {
     "data": {
      "text/plain": [
       "dict_keys(['Technology', 'Healthcare', 'Energy', 'Financials', 'Consumer Staples', 'Utilities', 'Consumer Discretionary', 'Basic Materials', 'Industrials', 'Telecommunications', 'Real Estate'])"
      ]
     },
     "execution_count": 59,
     "metadata": {},
     "output_type": "execute_result"
    }
   ],
   "source": [
    "sectors"
   ]
  },
  {
   "cell_type": "code",
   "execution_count": null,
   "id": "d06cffd9",
   "metadata": {},
   "outputs": [],
   "source": [
    "with open('pairs.txt','w') as f:\n",
    "    for pair in tech_pairs:\n",
    "        f.write(pair[0]+', '+pair[1]+'\\n')\n",
    "    for pair in hc_pairs:\n",
    "        f.write(pair[0]+', '+pair[1]+'\\n')\n",
    "    for pair in energy_pairs:\n",
    "        f.write(pair[0]+', '+pair[1]+'\\n')\n",
    "    for pair in fin_pairs:\n",
    "        f.write(pair[0]+', '+pair[1]+'\\n')\n",
    "    for pair in cs_pairs:\n",
    "        f.write(pair[0]+', '+pair[1]+'\\n')\n",
    "    for pair in util_pairs:\n",
    "        f.write(pair[0]+', '+pair[1]+'\\n')"
   ]
  },
  {
   "cell_type": "code",
   "execution_count": null,
   "id": "481962d7",
   "metadata": {},
   "outputs": [],
   "source": []
  },
  {
   "cell_type": "code",
   "execution_count": null,
   "id": "a0c18893",
   "metadata": {},
   "outputs": [],
   "source": []
  }
 ],
 "metadata": {
  "kernelspec": {
   "display_name": "Python 3 (ipykernel)",
   "language": "python",
   "name": "python3"
  },
  "language_info": {
   "codemirror_mode": {
    "name": "ipython",
    "version": 3
   },
   "file_extension": ".py",
   "mimetype": "text/x-python",
   "name": "python",
   "nbconvert_exporter": "python",
   "pygments_lexer": "ipython3",
   "version": "3.10.9"
  }
 },
 "nbformat": 4,
 "nbformat_minor": 5
}
